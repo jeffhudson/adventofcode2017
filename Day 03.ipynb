{
 "cells": [
  {
   "cell_type": "code",
   "execution_count": 4,
   "metadata": {
    "ExecuteTime": {
     "end_time": "2017-12-03T14:08:25.995071Z",
     "start_time": "2017-12-03T14:08:25.992268Z"
    },
    "collapsed": true
   },
   "outputs": [],
   "source": [
    "inp = 265149"
   ]
  },
  {
   "cell_type": "code",
   "execution_count": null,
   "metadata": {
    "collapsed": true
   },
   "outputs": [],
   "source": [
    "## Part 1"
   ]
  },
  {
   "cell_type": "code",
   "execution_count": 5,
   "metadata": {
    "ExecuteTime": {
     "end_time": "2017-12-03T14:08:27.677846Z",
     "start_time": "2017-12-03T14:08:27.663391Z"
    }
   },
   "outputs": [
    {
     "data": {
      "text/plain": [
       "514.9262083056174"
      ]
     },
     "execution_count": 5,
     "metadata": {},
     "output_type": "execute_result"
    }
   ],
   "source": [
    "import math\n",
    "math.sqrt(inp)"
   ]
  },
  {
   "cell_type": "code",
   "execution_count": 10,
   "metadata": {
    "ExecuteTime": {
     "end_time": "2017-12-03T14:20:54.546425Z",
     "start_time": "2017-12-03T14:20:54.543813Z"
    }
   },
   "outputs": [],
   "source": [
    "corner = 514**2 + ((515**2 - 514**2) + 1 ) / 2"
   ]
  },
  {
   "cell_type": "code",
   "execution_count": 11,
   "metadata": {
    "ExecuteTime": {
     "end_time": "2017-12-03T14:20:56.872149Z",
     "start_time": "2017-12-03T14:20:56.868291Z"
    }
   },
   "outputs": [
    {
     "data": {
      "text/plain": [
       "264711"
      ]
     },
     "execution_count": 11,
     "metadata": {},
     "output_type": "execute_result"
    }
   ],
   "source": [
    "corner"
   ]
  },
  {
   "cell_type": "code",
   "execution_count": 12,
   "metadata": {
    "ExecuteTime": {
     "end_time": "2017-12-03T14:23:20.150821Z",
     "start_time": "2017-12-03T14:23:20.147663Z"
    }
   },
   "outputs": [
    {
     "name": "stdout",
     "output_type": "stream",
     "text": [
      "264968\n"
     ]
    }
   ],
   "source": [
    "midpoint = (515**2 + corner) / 2\n",
    "print midpoint"
   ]
  },
  {
   "cell_type": "code",
   "execution_count": 13,
   "metadata": {
    "ExecuteTime": {
     "end_time": "2017-12-03T14:23:52.229332Z",
     "start_time": "2017-12-03T14:23:52.226012Z"
    }
   },
   "outputs": [
    {
     "name": "stdout",
     "output_type": "stream",
     "text": [
      "181\n"
     ]
    }
   ],
   "source": [
    "p1 = abs(inp - midpoint)\n",
    "print p1"
   ]
  },
  {
   "cell_type": "code",
   "execution_count": 14,
   "metadata": {
    "ExecuteTime": {
     "end_time": "2017-12-03T14:25:41.175126Z",
     "start_time": "2017-12-03T14:25:41.172122Z"
    },
    "collapsed": true
   },
   "outputs": [],
   "source": [
    "p2 = 514 / 2"
   ]
  },
  {
   "cell_type": "code",
   "execution_count": 15,
   "metadata": {
    "ExecuteTime": {
     "end_time": "2017-12-03T14:26:01.521364Z",
     "start_time": "2017-12-03T14:26:01.517810Z"
    }
   },
   "outputs": [
    {
     "name": "stdout",
     "output_type": "stream",
     "text": [
      "438\n"
     ]
    }
   ],
   "source": [
    "total_steps = p1 + p2\n",
    "print total_steps"
   ]
  },
  {
   "cell_type": "code",
   "execution_count": null,
   "metadata": {
    "collapsed": true
   },
   "outputs": [],
   "source": [
    "## Part 2"
   ]
  },
  {
   "cell_type": "code",
   "execution_count": 101,
   "metadata": {
    "ExecuteTime": {
     "end_time": "2017-12-03T15:25:51.318149Z",
     "start_time": "2017-12-03T15:25:51.291487Z"
    }
   },
   "outputs": [
    {
     "data": {
      "text/plain": [
       "[[0, 0, 0, 0, 0, 0, 0, 0, 0, 0, 0, 0, 0, 0, 0],\n",
       " [0, 0, 0, 0, 0, 0, 0, 0, 0, 0, 0, 0, 0, 0, 0],\n",
       " [0, 0, 0, 0, 0, 0, 0, 0, 0, 0, 0, 0, 0, 0, 0],\n",
       " [0, 0, 0, 0, 0, 0, 0, 0, 0, 0, 266330, 130654, 0, 0, 0],\n",
       " [0, 0, 0, 0, 6591, 6444, 6155, 5733, 5336, 5022, 2450, 128204, 0, 0, 0],\n",
       " [0, 0, 0, 0, 13486, 147, 142, 133, 122, 59, 2391, 123363, 0, 0, 0],\n",
       " [0, 0, 0, 0, 14267, 304, 5, 4, 2, 57, 2275, 116247, 0, 0, 0],\n",
       " [0, 0, 0, 0, 15252, 330, 10, 1, 1, 54, 2105, 109476, 0, 0, 0],\n",
       " [0, 0, 0, 0, 16295, 351, 11, 23, 25, 26, 1968, 103128, 0, 0, 0],\n",
       " [0, 0, 0, 0, 17008, 362, 747, 806, 880, 931, 957, 98098, 0, 0, 0],\n",
       " [0, 0, 0, 0, 17370, 35487, 37402, 39835, 42452, 45220, 47108, 48065, 0, 0, 0],\n",
       " [0, 0, 0, 0, 0, 0, 0, 0, 0, 0, 0, 0, 0, 0, 0],\n",
       " [0, 0, 0, 0, 0, 0, 0, 0, 0, 0, 0, 0, 0, 0, 0],\n",
       " [0, 0, 0, 0, 0, 0, 0, 0, 0, 0, 0, 0, 0, 0, 0],\n",
       " [0, 0, 0, 0, 0, 0, 0, 0, 0, 0, 0, 0, 0, 0, 0]]"
      ]
     },
     "execution_count": 101,
     "metadata": {},
     "output_type": "execute_result"
    }
   ],
   "source": [
    "m = [[0] * 15 for x in range(15)]\n",
    "\n",
    "m[7][7] = 1\n",
    "m\n",
    "\n",
    "i = 7  ## row\n",
    "j = 7  ## col\n",
    "\n",
    "state = 'right'\n",
    "min_i = 7\n",
    "min_j = 7\n",
    "max_i = 7\n",
    "max_j = 7\n",
    "\n",
    "last = 1\n",
    "\n",
    "while last < inp:\n",
    "\n",
    "    if state == 'up':\n",
    "        i -= 1\n",
    "        if i < min_i:\n",
    "            min_i = i\n",
    "            state = 'left'\n",
    "    elif state == 'left':\n",
    "        j -= 1\n",
    "        if j < min_j:\n",
    "            min_j = j\n",
    "            state = 'down'\n",
    "    elif state == 'down':\n",
    "        i += 1\n",
    "        if i > max_i:\n",
    "            max_i = i\n",
    "            state = 'right'\n",
    "    elif state == 'right':\n",
    "        j += 1\n",
    "        if j > max_j:\n",
    "            max_j = j\n",
    "            state = 'up'\n",
    "\n",
    "    last = sum([m[i-1][j-1],m[i-1][j],m[i-1][j+1],\n",
    "               m[i][j-1],m[i][j],m[i][j+1],\n",
    "               m[i+1][j-1],m[i+1][j],m[i+1][j+1]])\n",
    "\n",
    "    m[i][j] = last\n",
    "    \n",
    "m"
   ]
  }
 ],
 "metadata": {
  "kernelspec": {
   "display_name": "Python 2",
   "language": "python",
   "name": "python2"
  },
  "language_info": {
   "codemirror_mode": {
    "name": "ipython",
    "version": 2
   },
   "file_extension": ".py",
   "mimetype": "text/x-python",
   "name": "python",
   "nbconvert_exporter": "python",
   "pygments_lexer": "ipython2",
   "version": "2.7.10"
  },
  "varInspector": {
   "cols": {
    "lenName": 16,
    "lenType": 16,
    "lenVar": 40
   },
   "kernels_config": {
    "python": {
     "delete_cmd_postfix": "",
     "delete_cmd_prefix": "del ",
     "library": "var_list.py",
     "varRefreshCmd": "print(var_dic_list())"
    },
    "r": {
     "delete_cmd_postfix": ") ",
     "delete_cmd_prefix": "rm(",
     "library": "var_list.r",
     "varRefreshCmd": "cat(var_dic_list()) "
    }
   },
   "types_to_exclude": [
    "module",
    "function",
    "builtin_function_or_method",
    "instance",
    "_Feature"
   ],
   "window_display": false
  }
 },
 "nbformat": 4,
 "nbformat_minor": 2
}
